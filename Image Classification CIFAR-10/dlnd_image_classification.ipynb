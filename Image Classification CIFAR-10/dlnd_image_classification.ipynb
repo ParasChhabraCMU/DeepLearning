{
 "cells": [
  {
   "cell_type": "markdown",
   "metadata": {
    "collapsed": true
   },
   "source": [
    "# Image Classification\n",
    "In this project, you'll classify images from the [CIFAR-10 dataset](https://www.cs.toronto.edu/~kriz/cifar.html).  The dataset consists of airplanes, dogs, cats, and other objects. You'll preprocess the images, then train a convolutional neural network on all the samples. The images need to be normalized and the labels need to be one-hot encoded.  You'll get to apply what you learned and build a convolutional, max pooling, dropout, and fully connected layers.  At the end, you'll get to see your neural network's predictions on the sample images.\n",
    "## Get the Data\n",
    "Run the following cell to download the [CIFAR-10 dataset for python](https://www.cs.toronto.edu/~kriz/cifar-10-python.tar.gz)."
   ]
  },
  {
   "cell_type": "code",
   "execution_count": 102,
   "metadata": {},
   "outputs": [
    {
     "name": "stdout",
     "output_type": "stream",
     "text": [
      "All files found!\n"
     ]
    }
   ],
   "source": [
    "\"\"\"\n",
    "DON'T MODIFY ANYTHING IN THIS CELL THAT IS BELOW THIS LINE\n",
    "\"\"\"\n",
    "from urllib.request import urlretrieve\n",
    "from os.path import isfile, isdir\n",
    "# from tqdm import tqdm_notebook as tqdm\n",
    "import problem_unittests as tests\n",
    "import tarfile\n",
    "from sklearn.preprocessing import OneHotEncoder\n",
    "\n",
    "cifar10_dataset_folder_path = 'cifar-10-batches-py'\n",
    "\n",
    "# Use Floyd's cifar-10 dataset if present\n",
    "floyd_cifar10_location = '/cifar/cifar-10-python.tar.gz'\n",
    "if isfile(floyd_cifar10_location):\n",
    "    tar_gz_path = floyd_cifar10_location\n",
    "else:\n",
    "    tar_gz_path = 'cifar-10-python.tar.gz'\n",
    "\"\"\"\n",
    "class DLProgress(tqdm):\n",
    "    last_block = 0\n",
    "\n",
    "    def hook(self, block_num=1, block_size=1, total_size=None):\n",
    "        self.total = total_size\n",
    "        self.update((block_num - self.last_block) * block_size)\n",
    "        self.last_block = block_num\n",
    "\"\"\"\n",
    "\n",
    "if not isfile(tar_gz_path):\n",
    "    urlretrieve('https://www.cs.toronto.edu/~kriz/cifar-10-python.tar.gz',tar_gz_path)\n",
    "\n",
    "if not isdir(cifar10_dataset_folder_path):\n",
    "    with tarfile.open(tar_gz_path) as tar:\n",
    "        tar.extractall()\n",
    "        tar.close()\n",
    "\n",
    "\n",
    "tests.test_folder_path(cifar10_dataset_folder_path)"
   ]
  },
  {
   "cell_type": "markdown",
   "metadata": {},
   "source": [
    "## Explore the Data\n",
    "The dataset is broken into batches to prevent your machine from running out of memory.  The CIFAR-10 dataset consists of 5 batches, named `data_batch_1`, `data_batch_2`, etc.. Each batch contains the labels and images that are one of the following:\n",
    "* airplane\n",
    "* automobile\n",
    "* bird\n",
    "* cat\n",
    "* deer\n",
    "* dog\n",
    "* frog\n",
    "* horse\n",
    "* ship\n",
    "* truck\n",
    "\n",
    "Understanding a dataset is part of making predictions on the data.  Play around with the code cell below by changing the `batch_id` and `sample_id`. The `batch_id` is the id for a batch (1-5). The `sample_id` is the id for a image and label pair in the batch.\n",
    "\n",
    "Ask yourself \"What are all possible labels?\", \"What is the range of values for the image data?\", \"Are the labels in order or random?\".  Answers to questions like these will help you preprocess the data and end up with better predictions."
   ]
  },
  {
   "cell_type": "code",
   "execution_count": 103,
   "metadata": {},
   "outputs": [
    {
     "name": "stdout",
     "output_type": "stream",
     "text": [
      "\n",
      "Stats of batch 1:\n",
      "Samples: 10000\n",
      "Label Counts: {0: 1005, 1: 974, 2: 1032, 3: 1016, 4: 999, 5: 937, 6: 1030, 7: 1001, 8: 1025, 9: 981}\n",
      "First 20 Labels: [6, 9, 9, 4, 1, 1, 2, 7, 8, 3, 4, 7, 7, 2, 9, 9, 9, 3, 2, 6]\n",
      "\n",
      "Example of Image 5:\n",
      "Image - Min Value: 0 Max Value: 252\n",
      "Image - Shape: (32, 32, 3)\n",
      "Label - Label Id: 1 Name: automobile\n"
     ]
    },
    {
     "data": {
      "image/png": "[encoded data removed]",
      "text/plain": [
       "<matplotlib.figure.Figure at 0x7fb9d8564128>"
      ]
     },
     "metadata": {
      "image/png": {
       "height": 250,
       "width": 253
      }
     },
     "output_type": "display_data"
    }
   ],
   "source": [
    "%matplotlib inline\n",
    "%config InlineBackend.figure_format = 'retina'\n",
    "\n",
    "import helper\n",
    "import numpy as np\n",
    "\n",
    "# Explore the dataset\n",
    "batch_id = 1\n",
    "sample_id = 5\n",
    "helper.display_stats(cifar10_dataset_folder_path, batch_id, sample_id)"
   ]
  },
  {
   "cell_type": "markdown",
   "metadata": {},
   "source": [
    "## Implement Preprocess Functions\n",
    "### Normalize\n",
    "In the cell below, implement the `normalize` function to take in image data, `x`, and return it as a normalized Numpy array. The values should be in the range of 0 to 1, inclusive.  The return object should be the same shape as `x`."
   ]
  },
  {
   "cell_type": "code",
   "execution_count": 104,
   "metadata": {},
   "outputs": [
    {
     "name": "stdout",
     "output_type": "stream",
     "text": [
      "Tests Passed\n"
     ]
    }
   ],
   "source": [
    "def normalize(x):\n",
    "    \"\"\"\n",
    "    Normalize a list of sample image data in the range of 0 to 1\n",
    "    : x: List of image data.  The image shape is (32, 32, 3)\n",
    "    : return: Numpy array of normalize data\n",
    "    \"\"\"\n",
    "    # TODO: Implement Function\n",
    "    x_minimum = np.min(x)\n",
    "    x_maximum = np.max(x)\n",
    "    \n",
    "    #print(x.shape)\n",
    "    \n",
    "    normailzd_images = np.zeros(tuple(np.shape(x)))\n",
    "    #print(normailzd_image.shape)\n",
    "    \n",
    "    for image in range(len(x)):\n",
    "        normailzd_images[image,] = ( x[image,] - x_minimum) / ( x_maximum - x_minimum )\n",
    "            \n",
    "    return normailzd_images\n",
    "\n",
    "\n",
    "\"\"\"\n",
    "DON'T MODIFY ANYTHING IN THIS CELL THAT IS BELOW THIS LINE\n",
    "\"\"\"\n",
    "tests.test_normalize(normalize)"
   ]
  },
  {
   "cell_type": "markdown",
   "metadata": {},
   "source": [
    "### One-hot encode\n",
    "Just like the previous code cell, you'll be implementing a function for preprocessing.  This time, you'll implement the `one_hot_encode` function. The input, `x`, are a list of labels.  Implement the function to return the list of labels as One-Hot encoded Numpy array.  The possible values for labels are 0 to 9. The one-hot encoding function should return the same encoding for each value between each call to `one_hot_encode`.  Make sure to save the map of encodings outside the function.\n",
    "\n",
    "Hint: Don't reinvent the wheel."
   ]
  },
  {
   "cell_type": "code",
   "execution_count": 105,
   "metadata": {},
   "outputs": [
    {
     "name": "stdout",
     "output_type": "stream",
     "text": [
      "Tests Passed\n"
     ]
    }
   ],
   "source": [
    "def one_hot_encode(x):\n",
    "    \"\"\"\n",
    "    One hot encode a list of sample labels. Return a one-hot encoded vector for each label.\n",
    "    : x: List of sample Labels\n",
    "    : return: Numpy array of one-hot encoded labels\n",
    "    \"\"\"\n",
    "    # TODO: Implement Function\n",
    "    encoder = OneHotEncoder(n_values=10)    \n",
    "    one_hot_encoded = encoder.fit_transform(np.array(x).reshape(-1, 1))\n",
    "    return one_hot_encoded.toarray()\n",
    "    \n",
    "\n",
    "\"\"\"\n",
    "DON'T MODIFY ANYTHING IN THIS CELL THAT IS BELOW THIS LINE\n",
    "\"\"\"\n",
    "tests.test_one_hot_encode(one_hot_encode)"
   ]
  },
  {
   "cell_type": "markdown",
   "metadata": {},
   "source": [
    "### Randomize Data\n",
    "As you saw from exploring the data above, the order of the samples are randomized.  It doesn't hurt to randomize it again, but you don't need to for this dataset."
   ]
  },
  {
   "cell_type": "markdown",
   "metadata": {},
   "source": [
    "## Preprocess all the data and save it\n",
    "Running the code cell below will preprocess all the CIFAR-10 data and save it to file. The code below also uses 10% of the training data for validation."
   ]
  },
  {
   "cell_type": "code",
   "execution_count": 106,
   "metadata": {
    "collapsed": true
   },
   "outputs": [],
   "source": [
    "\"\"\"\n",
    "DON'T MODIFY ANYTHING IN THIS CELL\n",
    "\"\"\"\n",
    "# Preprocess Training, Validation, and Testing Data\n",
    "helper.preprocess_and_save_data(cifar10_dataset_folder_path, normalize, one_hot_encode)"
   ]
  },
  {
   "cell_type": "markdown",
   "metadata": {},
   "source": [
    "# Check Point\n",
    "This is your first checkpoint.  If you ever decide to come back to this notebook or have to restart the notebook, you can start from here.  The preprocessed data has been saved to disk."
   ]
  },
  {
   "cell_type": "code",
   "execution_count": 107,
   "metadata": {
    "collapsed": true
   },
   "outputs": [],
   "source": [
    "\"\"\"\n",
    "DON'T MODIFY ANYTHING IN THIS CELL\n",
    "\"\"\"\n",
    "import pickle\n",
    "import problem_unittests as tests\n",
    "import helper\n",
    "\n",
    "# Load the Preprocessed Validation data\n",
    "valid_features, valid_labels = pickle.load(open('preprocess_validation.p', mode='rb'))"
   ]
  },
  {
   "cell_type": "markdown",
   "metadata": {},
   "source": [
    "## Build the network\n",
    "For the neural network, you'll build each layer into a function.  Most of the code you've seen has been outside of functions. To test your code more thoroughly, we require that you put each layer in a function.  This allows us to give you better feedback and test for simple mistakes using our unittests before you submit your project.\n",
    "\n",
    ">**Note:** If you're finding it hard to dedicate enough time for this course each week, we've provided a small shortcut to this part of the project. In the next couple of problems, you'll have the option to use classes from the [TensorFlow Layers](https://www.tensorflow.org/api_docs/python/tf/layers) or [TensorFlow Layers (contrib)](https://www.tensorflow.org/api_guides/python/contrib.layers) packages to build each layer, except the layers you build in the \"Convolutional and Max Pooling Layer\" section.  TF Layers is similar to Keras's and TFLearn's abstraction to layers, so it's easy to pickup.\n",
    "\n",
    ">However, if you would like to get the most out of this course, try to solve all the problems _without_ using anything from the TF Layers packages. You **can** still use classes from other packages that happen to have the same name as ones you find in TF Layers! For example, instead of using the TF Layers version of the `conv2d` class, [tf.layers.conv2d](https://www.tensorflow.org/api_docs/python/tf/layers/conv2d), you would want to use the TF Neural Network version of `conv2d`, [tf.nn.conv2d](https://www.tensorflow.org/api_docs/python/tf/nn/conv2d). \n",
    "\n",
    "Let's begin!\n",
    "\n",
    "### Input\n",
    "The neural network needs to read the image data, one-hot encoded labels, and dropout keep probability. Implement the following functions\n",
    "* Implement `neural_net_image_input`\n",
    " * Return a [TF Placeholder](https://www.tensorflow.org/api_docs/python/tf/placeholder)\n",
    " * Set the shape using `image_shape` with batch size set to `None`.\n",
    " * Name the TensorFlow placeholder \"x\" using the TensorFlow `name` parameter in the [TF Placeholder](https://www.tensorflow.org/api_docs/python/tf/placeholder).\n",
    "* Implement `neural_net_label_input`\n",
    " * Return a [TF Placeholder](https://www.tensorflow.org/api_docs/python/tf/placeholder)\n",
    " * Set the shape using `n_classes` with batch size set to `None`.\n",
    " * Name the TensorFlow placeholder \"y\" using the TensorFlow `name` parameter in the [TF Placeholder](https://www.tensorflow.org/api_docs/python/tf/placeholder).\n",
    "* Implement `neural_net_keep_prob_input`\n",
    " * Return a [TF Placeholder](https://www.tensorflow.org/api_docs/python/tf/placeholder) for dropout keep probability.\n",
    " * Name the TensorFlow placeholder \"keep_prob\" using the TensorFlow `name` parameter in the [TF Placeholder](https://www.tensorflow.org/api_docs/python/tf/placeholder).\n",
    "\n",
    "These names will be used at the end of the project to load your saved model.\n",
    "\n",
    "Note: `None` for shapes in TensorFlow allow for a dynamic size."
   ]
  },
  {
   "cell_type": "code",
   "execution_count": 108,
   "metadata": {},
   "outputs": [
    {
     "name": "stdout",
     "output_type": "stream",
     "text": [
      "Image Input Tests Passed.\n",
      "Label Input Tests Passed.\n",
      "Keep Prob Tests Passed.\n"
     ]
    }
   ],
   "source": [
    "import tensorflow as tf\n",
    "\n",
    "def neural_net_image_input(image_shape):\n",
    "    \"\"\"\n",
    "    Return a Tensor for a batch of image input\n",
    "    : image_shape: Shape of the images\n",
    "    : return: Tensor for image input.\n",
    "    \"\"\"\n",
    "    # TODO: Implement Function\n",
    "    return tf.placeholder(tf.float32, [None, image_shape[0],image_shape[1],image_shape[2]], name='x')\n",
    "\n",
    "\n",
    "def neural_net_label_input(n_classes):\n",
    "    \"\"\"\n",
    "    Return a Tensor for a batch of label input\n",
    "    : n_classes: Number of classes\n",
    "    : return: Tensor for label input.\n",
    "    \"\"\"\n",
    "    # TODO: Implement Function\n",
    "    return tf.placeholder(tf.float32, [None, n_classes], name='y')\n",
    "\n",
    "\n",
    "def neural_net_keep_prob_input():\n",
    "    \"\"\"\n",
    "    Return a Tensor for keep probability\n",
    "    : return: Tensor for keep probability.\n",
    "    \"\"\"\n",
    "    # TODO: Implement Function\n",
    "    return tf.placeholder(tf.float32, name='keep_prob')\n",
    "\n",
    "\"\"\"\n",
    "DON'T MODIFY ANYTHING IN THIS CELL THAT IS BELOW THIS LINE\n",
    "\"\"\"\n",
    "tf.reset_default_graph()\n",
    "tests.test_nn_image_inputs(neural_net_image_input)\n",
    "tests.test_nn_label_inputs(neural_net_label_input)\n",
    "tests.test_nn_keep_prob_inputs(neural_net_keep_prob_input)"
   ]
  },
  {
   "cell_type": "markdown",
   "metadata": {},
   "source": [
    "### Convolution and Max Pooling Layer\n",
    "Convolution layers have a lot of success with images. For this code cell, you should implement the function `conv2d_maxpool` to apply convolution then max pooling:\n",
    "* Create the weight and bias using `conv_ksize`, `conv_num_outputs` and the shape of `x_tensor`.\n",
    "* Apply a convolution to `x_tensor` using weight and `conv_strides`.\n",
    " * We recommend you use same padding, but you're welcome to use any padding.\n",
    "* Add bias\n",
    "* Add a nonlinear activation to the convolution.\n",
    "* Apply Max Pooling using `pool_ksize` and `pool_strides`.\n",
    " * We recommend you use same padding, but you're welcome to use any padding.\n",
    "\n",
    "**Note:** You **can't** use [TensorFlow Layers](https://www.tensorflow.org/api_docs/python/tf/layers) or [TensorFlow Layers (contrib)](https://www.tensorflow.org/api_guides/python/contrib.layers) for **this** layer, but you can still use TensorFlow's [Neural Network](https://www.tensorflow.org/api_docs/python/tf/nn) package. You may still use the shortcut option for all the **other** layers."
   ]
  },
  {
   "cell_type": "code",
   "execution_count": 109,
   "metadata": {},
   "outputs": [
    {
     "name": "stdout",
     "output_type": "stream",
     "text": [
      "Tests Passed\n"
     ]
    }
   ],
   "source": [
    "def conv2d_maxpool(x_tensor, conv_num_outputs, conv_ksize, conv_strides, pool_ksize, pool_strides):\n",
    "    \"\"\"\n",
    "    Apply convolution then max pooling to x_tensor\n",
    "    :param x_tensor: TensorFlow Tensor\n",
    "    :param conv_num_outputs: Number of outputs for the convolutional layer\n",
    "    :param conv_ksize: kernal size 2-D Tuple for the convolutional layer\n",
    "    :param conv_strides: Stride 2-D Tuple for convolution\n",
    "    :param pool_ksize: kernal size 2-D Tuple for pool\n",
    "    :param pool_strides: Stride 2-D Tuple for pool\n",
    "    : return: A tensor that represents convolution and max pooling of x_tensor\n",
    "    \"\"\"\n",
    "    # TODO: Implement Function\n",
    "    weight = tf.Variable(tf.random_normal([conv_ksize[0], conv_ksize[1], \\\n",
    "                    x_tensor.get_shape().as_list()[3], conv_num_outputs], stddev=0.1))\n",
    "    \n",
    "    bias   = tf.Variable(tf.random_normal([conv_num_outputs], stddev=0.1))\n",
    "    \n",
    "    output = tf.nn.conv2d(x_tensor, weight, [1, conv_strides[0], conv_strides[1], 1], \\\n",
    "                    padding='SAME')\n",
    "    \n",
    "    output = tf.nn.bias_add(output, bias)\n",
    "    \n",
    "    output = tf.nn.relu(output)\n",
    "    \n",
    "    output = tf.nn.max_pool(output, [1, pool_ksize[0], pool_ksize[1], 1], \\\n",
    "                              [1, pool_strides[0], pool_strides[1], 1], padding='SAME')\n",
    "    return output \n",
    "\n",
    "\n",
    "\"\"\"\n",
    "DON'T MODIFY ANYTHING IN THIS CELL THAT IS BELOW THIS LINE\n",
    "\"\"\"\n",
    "tests.test_con_pool(conv2d_maxpool)"
   ]
  },
  {
   "cell_type": "markdown",
   "metadata": {},
   "source": [
    "### Flatten Layer\n",
    "Implement the `flatten` function to change the dimension of `x_tensor` from a 4-D tensor to a 2-D tensor.  The output should be the shape (*Batch Size*, *Flattened Image Size*). Shortcut option: you can use classes from the [TensorFlow Layers](https://www.tensorflow.org/api_docs/python/tf/layers) or [TensorFlow Layers (contrib)](https://www.tensorflow.org/api_guides/python/contrib.layers) packages for this layer. For more of a challenge, only use other TensorFlow packages."
   ]
  },
  {
   "cell_type": "code",
   "execution_count": 110,
   "metadata": {},
   "outputs": [
    {
     "name": "stdout",
     "output_type": "stream",
     "text": [
      "Tests Passed\n"
     ]
    }
   ],
   "source": [
    "def flatten(x_tensor):\n",
    "    \"\"\"\n",
    "    Flatten x_tensor to (Batch Size, Flattened Image Size)\n",
    "    : x_tensor: A tensor of size (Batch Size, ...), where ... are the image dimensions.\n",
    "    : return: A tensor of size (Batch Size, Flattened Image Size).\n",
    "    \"\"\"\n",
    "    # TODO: Implement Function\n",
    "    return tf.contrib.layers.flatten(x_tensor)\n",
    "\n",
    "\"\"\"\n",
    "DON'T MODIFY ANYTHING IN THIS CELL THAT IS BELOW THIS LINE\n",
    "\"\"\"\n",
    "tests.test_flatten(flatten)"
   ]
  },
  {
   "cell_type": "markdown",
   "metadata": {},
   "source": [
    "### Fully-Connected Layer\n",
    "Implement the `fully_conn` function to apply a fully connected layer to `x_tensor` with the shape (*Batch Size*, *num_outputs*). Shortcut option: you can use classes from the [TensorFlow Layers](https://www.tensorflow.org/api_docs/python/tf/layers) or [TensorFlow Layers (contrib)](https://www.tensorflow.org/api_guides/python/contrib.layers) packages for this layer. For more of a challenge, only use other TensorFlow packages."
   ]
  },
  {
   "cell_type": "code",
   "execution_count": 111,
   "metadata": {},
   "outputs": [
    {
     "name": "stdout",
     "output_type": "stream",
     "text": [
      "Tests Passed\n"
     ]
    }
   ],
   "source": [
    "def fully_conn(x_tensor, num_outputs):\n",
    "    \"\"\"\n",
    "    Apply a fully connected layer to x_tensor using weight and bias\n",
    "    : x_tensor: A 2-D tensor where the first dimension is batch size.\n",
    "    : num_outputs: The number of output that the new tensor should be.\n",
    "    : return: A 2-D tensor where the second dimension is num_outputs.\n",
    "    \"\"\"\n",
    "    # TODO: Implement Function\n",
    "    return tf.contrib.layers.fully_connected(x_tensor, num_outputs, tf.nn.relu)\n",
    "\n",
    "\"\"\"\n",
    "DON'T MODIFY ANYTHING IN THIS CELL THAT IS BELOW THIS LINE\n",
    "\"\"\"\n",
    "tests.test_fully_conn(fully_conn)"
   ]
  },
  {
   "cell_type": "markdown",
   "metadata": {},
   "source": [
    "### Output Layer\n",
    "Implement the `output` function to apply a fully connected layer to `x_tensor` with the shape (*Batch Size*, *num_outputs*). Shortcut option: you can use classes from the [TensorFlow Layers](https://www.tensorflow.org/api_docs/python/tf/layers) or [TensorFlow Layers (contrib)](https://www.tensorflow.org/api_guides/python/contrib.layers) packages for this layer. For more of a challenge, only use other TensorFlow packages.\n",
    "\n",
    "**Note:** Activation, softmax, or cross entropy should **not** be applied to this."
   ]
  },
  {
   "cell_type": "code",
   "execution_count": 112,
   "metadata": {},
   "outputs": [
    {
     "name": "stdout",
     "output_type": "stream",
     "text": [
      "Tests Passed\n"
     ]
    }
   ],
   "source": [
    "def output(x_tensor, num_outputs):\n",
    "    \"\"\"\n",
    "    Apply a output layer to x_tensor using weight and bias\n",
    "    : x_tensor: A 2-D tensor where the first dimension is batch size.\n",
    "    : num_outputs: The number of output that the new tensor should be.\n",
    "    : return: A 2-D tensor where the second dimension is num_outputs.\n",
    "    \"\"\"\n",
    "    # TODO: Implement Function\n",
    "    return tf.contrib.layers.fully_connected(x_tensor, num_outputs)\n",
    "\n",
    "\n",
    "\"\"\"\n",
    "DON'T MODIFY ANYTHING IN THIS CELL THAT IS BELOW THIS LINE\n",
    "\"\"\"\n",
    "tests.test_output(output)"
   ]
  },
  {
   "cell_type": "markdown",
   "metadata": {},
   "source": [
    "### Create Convolutional Model\n",
    "Implement the function `conv_net` to create a convolutional neural network model. The function takes in a batch of images, `x`, and outputs logits.  Use the layers you created above to create this model:\n",
    "\n",
    "* Apply 1, 2, or 3 Convolution and Max Pool layers\n",
    "* Apply a Flatten Layer\n",
    "* Apply 1, 2, or 3 Fully Connected Layers\n",
    "* Apply an Output Layer\n",
    "* Return the output\n",
    "* Apply [TensorFlow's Dropout](https://www.tensorflow.org/api_docs/python/tf/nn/dropout) to one or more layers in the model using `keep_prob`. "
   ]
  },
  {
   "cell_type": "code",
   "execution_count": 113,
   "metadata": {},
   "outputs": [
    {
     "name": "stdout",
     "output_type": "stream",
     "text": [
      "Neural Network Built!\n"
     ]
    }
   ],
   "source": [
    "def conv_net(x, keep_prob):\n",
    "    \"\"\"\n",
    "    Create a convolutional neural network model\n",
    "    : x: Placeholder tensor that holds image data.\n",
    "    : keep_prob: Placeholder tensor that hold dropout keep probability.\n",
    "    : return: Tensor that represents logits\n",
    "    \"\"\"\n",
    "    # TODO: Apply 1, 2, or 3 Convolution and Max Pool layers\n",
    "    #    Play around with different number of outputs, kernel size and stride\n",
    "    # Function Definition from Above:\n",
    "    #    conv2d_maxpool(x_tensor, conv_num_outputs, conv_ksize, conv_strides, pool_ksize, pool_strides)\n",
    "    \n",
    "    x = conv2d_maxpool(x,\n",
    "                           conv_num_outputs=64,\n",
    "                           conv_ksize=[5,5],\n",
    "                           conv_strides=[1,1],\n",
    "                           pool_ksize=[3,3],\n",
    "                           pool_strides=[2,2])\n",
    "    \n",
    "    x = conv2d_maxpool(x,\n",
    "                          conv_num_outputs=64,\n",
    "                          conv_ksize=[5,5],\n",
    "                          conv_strides=[1,1],\n",
    "                          pool_ksize=[3,3],\n",
    "                          pool_strides=[2,2])\n",
    "    \n",
    "    # Apply a Flatten Layer\n",
    "    x = flatten(x)\n",
    "    \n",
    "    # 2 Fully-Connected Layers.\n",
    "    x = fully_conn(x, 384)\n",
    "    x = fully_conn(x, 192)\n",
    "    \n",
    "    # Dropout layer.\n",
    "    x = tf.nn.dropout(x, keep_prob)\n",
    "    \n",
    "    # Output Layer.\n",
    "    return output(x, 10) \n",
    "\n",
    "\n",
    "\"\"\"\n",
    "DON'T MODIFY ANYTHING IN THIS CELL THAT IS BELOW THIS LINE\n",
    "\"\"\"\n",
    "\n",
    "##############################\n",
    "## Build the Neural Network ##\n",
    "##############################\n",
    "\n",
    "# Remove previous weights, bias, inputs, etc..\n",
    "tf.reset_default_graph()\n",
    "\n",
    "# Inputs\n",
    "x = neural_net_image_input((32, 32, 3))\n",
    "y = neural_net_label_input(10)\n",
    "keep_prob = neural_net_keep_prob_input()\n",
    "\n",
    "# Model\n",
    "logits = conv_net(x, keep_prob)\n",
    "\n",
    "# Name logits Tensor, so that is can be loaded from disk after training\n",
    "logits = tf.identity(logits, name='logits')\n",
    "\n",
    "# Loss and Optimizer\n",
    "cost = tf.reduce_mean(tf.nn.softmax_cross_entropy_with_logits(logits=logits, labels=y))\n",
    "optimizer = tf.train.AdamOptimizer().minimize(cost)\n",
    "\n",
    "# Accuracy\n",
    "correct_pred = tf.equal(tf.argmax(logits, 1), tf.argmax(y, 1))\n",
    "accuracy = tf.reduce_mean(tf.cast(correct_pred, tf.float32), name='accuracy')\n",
    "\n",
    "tests.test_conv_net(conv_net)"
   ]
  },
  {
   "cell_type": "markdown",
   "metadata": {},
   "source": [
    "## Train the Neural Network\n",
    "### Single Optimization\n",
    "Implement the function `train_neural_network` to do a single optimization.  The optimization should use `optimizer` to optimize in `session` with a `feed_dict` of the following:\n",
    "* `x` for image input\n",
    "* `y` for labels\n",
    "* `keep_prob` for keep probability for dropout\n",
    "\n",
    "This function will be called for each batch, so `tf.global_variables_initializer()` has already been called.\n",
    "\n",
    "Note: Nothing needs to be returned. This function is only optimizing the neural network."
   ]
  },
  {
   "cell_type": "code",
   "execution_count": 114,
   "metadata": {},
   "outputs": [
    {
     "name": "stdout",
     "output_type": "stream",
     "text": [
      "Tests Passed\n"
     ]
    }
   ],
   "source": [
    "def train_neural_network(session, optimizer, keep_probability, feature_batch, label_batch):\n",
    "    \"\"\"\n",
    "    Optimize the session on a batch of images and labels\n",
    "    : session: Current TensorFlow session\n",
    "    : optimizer: TensorFlow optimizer function\n",
    "    : keep_probability: keep probability\n",
    "    : feature_batch: Batch of Numpy image data\n",
    "    : label_batch: Batch of Numpy label data\n",
    "    \"\"\"\n",
    "    # TODO: Implement Function\n",
    "    session.run(optimizer, feed_dict={x:feature_batch, y:label_batch, keep_prob:keep_probability})\n",
    "\n",
    "\"\"\"\n",
    "DON'T MODIFY ANYTHING IN THIS CELL THAT IS BELOW THIS LINE\n",
    "\"\"\"\n",
    "tests.test_train_nn(train_neural_network)"
   ]
  },
  {
   "cell_type": "markdown",
   "metadata": {},
   "source": [
    "### Show Stats\n",
    "Implement the function `print_stats` to print loss and validation accuracy.  Use the global variables `valid_features` and `valid_labels` to calculate validation accuracy.  Use a keep probability of `1.0` to calculate the loss and validation accuracy."
   ]
  },
  {
   "cell_type": "code",
   "execution_count": 115,
   "metadata": {
    "collapsed": true
   },
   "outputs": [],
   "source": [
    "def print_stats(session, feature_batch, label_batch, cost, accuracy):\n",
    "    \"\"\"\n",
    "    Print information about loss and validation accuracy\n",
    "    : session: Current TensorFlow session\n",
    "    : feature_batch: Batch of Numpy image data\n",
    "    : label_batch: Batch of Numpy label data\n",
    "    : cost: TensorFlow cost function\n",
    "    : accuracy: TensorFlow accuracy function\n",
    "    \"\"\"\n",
    "    # TODO: Implement Function\n",
    "    loss = sess.run(cost, feed_dict={x: feature_batch,\n",
    "                                     y: label_batch,\n",
    "                                     keep_prob: 1.})\n",
    "    valid_acc = sess.run(accuracy, feed_dict={x: valid_features,\n",
    "                                              y: valid_labels,\n",
    "                                              keep_prob: 1.})\n",
    "\n",
    "    print('Loss: {:.4f} Validation Accuracy: {:.4f}'.format(loss, valid_acc))"
   ]
  },
  {
   "cell_type": "markdown",
   "metadata": {},
   "source": [
    "### Hyperparameters\n",
    "Tune the following parameters:\n",
    "* Set `epochs` to the number of iterations until the network stops learning or start overfitting\n",
    "* Set `batch_size` to the highest number that your machine has memory for.  Most people set them to common sizes of memory:\n",
    " * 64\n",
    " * 128\n",
    " * 256\n",
    " * ...\n",
    "* Set `keep_probability` to the probability of keeping a node using dropout"
   ]
  },
  {
   "cell_type": "code",
   "execution_count": 116,
   "metadata": {
    "collapsed": true
   },
   "outputs": [],
   "source": [
    "# TODO: Tune Parameters\n",
    "epochs = 45\n",
    "batch_size = 256\n",
    "keep_probability = 0.75"
   ]
  },
  {
   "cell_type": "markdown",
   "metadata": {},
   "source": [
    "### Train on a Single CIFAR-10 Batch\n",
    "Instead of training the neural network on all the CIFAR-10 batches of data, let's use a single batch. This should save time while you iterate on the model to get a better accuracy.  Once the final validation accuracy is 50% or greater, run the model on all the data in the next section."
   ]
  },
  {
   "cell_type": "code",
   "execution_count": 117,
   "metadata": {},
   "outputs": [
    {
     "name": "stdout",
     "output_type": "stream",
     "text": [
      "Checking the Training on a Single Batch...\n",
      "Epoch  1, CIFAR-10 Batch 1:  Loss: 2.3026 Validation Accuracy: 0.0978\n",
      "Epoch  2, CIFAR-10 Batch 1:  Loss: 2.3026 Validation Accuracy: 0.0978\n",
      "Epoch  3, CIFAR-10 Batch 1:  Loss: 2.2961 Validation Accuracy: 0.1280\n",
      "Epoch  4, CIFAR-10 Batch 1:  Loss: 2.0786 Validation Accuracy: 0.2462\n",
      "Epoch  5, CIFAR-10 Batch 1:  Loss: 1.8485 Validation Accuracy: 0.3174\n",
      "Epoch  6, CIFAR-10 Batch 1:  Loss: 1.6769 Validation Accuracy: 0.3558\n",
      "Epoch  7, CIFAR-10 Batch 1:  Loss: 1.3998 Validation Accuracy: 0.4246\n",
      "Epoch  8, CIFAR-10 Batch 1:  Loss: 1.1373 Validation Accuracy: 0.5066\n",
      "Epoch  9, CIFAR-10 Batch 1:  Loss: 0.7846 Validation Accuracy: 0.5210\n",
      "Epoch 10, CIFAR-10 Batch 1:  Loss: 0.6612 Validation Accuracy: 0.5576\n",
      "Epoch 11, CIFAR-10 Batch 1:  Loss: 0.5273 Validation Accuracy: 0.5588\n",
      "Epoch 12, CIFAR-10 Batch 1:  Loss: 0.3955 Validation Accuracy: 0.5630\n",
      "Epoch 13, CIFAR-10 Batch 1:  Loss: 0.3367 Validation Accuracy: 0.5606\n",
      "Epoch 14, CIFAR-10 Batch 1:  Loss: 0.2842 Validation Accuracy: 0.5610\n",
      "Epoch 15, CIFAR-10 Batch 1:  Loss: 0.2205 Validation Accuracy: 0.5626\n",
      "Epoch 16, CIFAR-10 Batch 1:  Loss: 0.1584 Validation Accuracy: 0.5712\n",
      "Epoch 17, CIFAR-10 Batch 1:  Loss: 0.1795 Validation Accuracy: 0.5454\n",
      "Epoch 18, CIFAR-10 Batch 1:  Loss: 0.1380 Validation Accuracy: 0.5822\n",
      "Epoch 19, CIFAR-10 Batch 1:  Loss: 0.1123 Validation Accuracy: 0.5714\n",
      "Epoch 20, CIFAR-10 Batch 1:  Loss: 0.1060 Validation Accuracy: 0.5914\n",
      "Epoch 21, CIFAR-10 Batch 1:  Loss: 0.1037 Validation Accuracy: 0.5794\n",
      "Epoch 22, CIFAR-10 Batch 1:  Loss: 0.0893 Validation Accuracy: 0.5730\n",
      "Epoch 23, CIFAR-10 Batch 1:  Loss: 0.0909 Validation Accuracy: 0.5654\n",
      "Epoch 24, CIFAR-10 Batch 1:  Loss: 0.0940 Validation Accuracy: 0.5450\n",
      "Epoch 25, CIFAR-10 Batch 1:  Loss: 0.0787 Validation Accuracy: 0.5730\n",
      "Epoch 26, CIFAR-10 Batch 1:  Loss: 0.0712 Validation Accuracy: 0.5780\n",
      "Epoch 27, CIFAR-10 Batch 1:  Loss: 0.0656 Validation Accuracy: 0.5802\n",
      "Epoch 28, CIFAR-10 Batch 1:  Loss: 0.0701 Validation Accuracy: 0.5726\n",
      "Epoch 29, CIFAR-10 Batch 1:  Loss: 0.0740 Validation Accuracy: 0.5784\n",
      "Epoch 30, CIFAR-10 Batch 1:  Loss: 0.0633 Validation Accuracy: 0.5680\n",
      "Epoch 31, CIFAR-10 Batch 1:  Loss: 0.0604 Validation Accuracy: 0.5752\n",
      "Epoch 32, CIFAR-10 Batch 1:  Loss: 0.0600 Validation Accuracy: 0.5582\n",
      "Epoch 33, CIFAR-10 Batch 1:  Loss: 0.0590 Validation Accuracy: 0.5890\n",
      "Epoch 34, CIFAR-10 Batch 1:  Loss: 0.0633 Validation Accuracy: 0.5704\n",
      "Epoch 35, CIFAR-10 Batch 1:  Loss: 0.0639 Validation Accuracy: 0.5676\n",
      "Epoch 36, CIFAR-10 Batch 1:  Loss: 0.0623 Validation Accuracy: 0.5766\n",
      "Epoch 37, CIFAR-10 Batch 1:  Loss: 0.0581 Validation Accuracy: 0.5902\n",
      "Epoch 38, CIFAR-10 Batch 1:  Loss: 0.0579 Validation Accuracy: 0.5878\n",
      "Epoch 39, CIFAR-10 Batch 1:  Loss: 0.0584 Validation Accuracy: 0.5868\n",
      "Epoch 40, CIFAR-10 Batch 1:  Loss: 0.0581 Validation Accuracy: 0.5868\n",
      "Epoch 41, CIFAR-10 Batch 1:  Loss: 0.0577 Validation Accuracy: 0.5960\n",
      "Epoch 42, CIFAR-10 Batch 1:  Loss: 0.0576 Validation Accuracy: 0.6014\n",
      "Epoch 43, CIFAR-10 Batch 1:  Loss: 0.0576 Validation Accuracy: 0.5940\n",
      "Epoch 44, CIFAR-10 Batch 1:  Loss: 0.0586 Validation Accuracy: 0.6058\n",
      "Epoch 45, CIFAR-10 Batch 1:  Loss: 0.0581 Validation Accuracy: 0.5976\n"
     ]
    }
   ],
   "source": [
    "\"\"\"\n",
    "DON'T MODIFY ANYTHING IN THIS CELL\n",
    "\"\"\"\n",
    "print('Checking the Training on a Single Batch...')\n",
    "with tf.Session() as sess:\n",
    "    # Initializing the variables\n",
    "    sess.run(tf.global_variables_initializer())\n",
    "    \n",
    "    # Training cycle\n",
    "    for epoch in range(epochs):\n",
    "        batch_i = 1\n",
    "        for batch_features, batch_labels in helper.load_preprocess_training_batch(batch_i, batch_size):\n",
    "            train_neural_network(sess, optimizer, keep_probability, batch_features, batch_labels)\n",
    "        print('Epoch {:>2}, CIFAR-10 Batch {}:  '.format(epoch + 1, batch_i), end='')\n",
    "        print_stats(sess, batch_features, batch_labels, cost, accuracy)"
   ]
  },
  {
   "cell_type": "markdown",
   "metadata": {},
   "source": [
    "### Fully Train the Model\n",
    "Now that you got a good accuracy with a single CIFAR-10 batch, try it with all five batches."
   ]
  },
  {
   "cell_type": "code",
   "execution_count": 118,
   "metadata": {},
   "outputs": [
    {
     "name": "stdout",
     "output_type": "stream",
     "text": [
      "Training...\n",
      "Epoch  1, CIFAR-10 Batch 1:  Loss: 2.3026 Validation Accuracy: 0.0978\n",
      "Epoch  1, CIFAR-10 Batch 2:  Loss: 2.3026 Validation Accuracy: 0.0978\n",
      "Epoch  1, CIFAR-10 Batch 3:  Loss: 2.3026 Validation Accuracy: 0.0978\n",
      "Epoch  1, CIFAR-10 Batch 4:  Loss: 2.3026 Validation Accuracy: 0.0978\n",
      "Epoch  1, CIFAR-10 Batch 5:  Loss: 2.2695 Validation Accuracy: 0.1250\n",
      "Epoch  2, CIFAR-10 Batch 1:  Loss: 2.2022 Validation Accuracy: 0.1830\n",
      "Epoch  2, CIFAR-10 Batch 2:  Loss: 2.1007 Validation Accuracy: 0.2408\n",
      "Epoch  2, CIFAR-10 Batch 3:  Loss: 1.9170 Validation Accuracy: 0.3228\n",
      "Epoch  2, CIFAR-10 Batch 4:  Loss: 1.7721 Validation Accuracy: 0.4246\n",
      "Epoch  2, CIFAR-10 Batch 5:  Loss: 1.5510 Validation Accuracy: 0.4536\n",
      "Epoch  3, CIFAR-10 Batch 1:  Loss: 1.3632 Validation Accuracy: 0.4662\n",
      "Epoch  3, CIFAR-10 Batch 2:  Loss: 1.2836 Validation Accuracy: 0.5134\n",
      "Epoch  3, CIFAR-10 Batch 3:  Loss: 1.1197 Validation Accuracy: 0.5022\n",
      "Epoch  3, CIFAR-10 Batch 4:  Loss: 1.0798 Validation Accuracy: 0.5252\n",
      "Epoch  3, CIFAR-10 Batch 5:  Loss: 1.1065 Validation Accuracy: 0.5498\n",
      "Epoch  4, CIFAR-10 Batch 1:  Loss: 0.9979 Validation Accuracy: 0.5438\n",
      "Epoch  4, CIFAR-10 Batch 2:  Loss: 0.9911 Validation Accuracy: 0.5590\n",
      "Epoch  4, CIFAR-10 Batch 3:  Loss: 0.5514 Validation Accuracy: 0.5972\n",
      "Epoch  4, CIFAR-10 Batch 4:  Loss: 0.6555 Validation Accuracy: 0.6154\n",
      "Epoch  4, CIFAR-10 Batch 5:  Loss: 0.5704 Validation Accuracy: 0.6354\n",
      "Epoch  5, CIFAR-10 Batch 1:  Loss: 0.5656 Validation Accuracy: 0.6198\n",
      "Epoch  5, CIFAR-10 Batch 2:  Loss: 0.5627 Validation Accuracy: 0.6254\n",
      "Epoch  5, CIFAR-10 Batch 3:  Loss: 0.3871 Validation Accuracy: 0.6544\n",
      "Epoch  5, CIFAR-10 Batch 4:  Loss: 0.4311 Validation Accuracy: 0.6528\n",
      "Epoch  5, CIFAR-10 Batch 5:  Loss: 0.3583 Validation Accuracy: 0.6674\n",
      "Epoch  6, CIFAR-10 Batch 1:  Loss: 0.3724 Validation Accuracy: 0.6528\n",
      "Epoch  6, CIFAR-10 Batch 2:  Loss: 0.3708 Validation Accuracy: 0.6664\n",
      "Epoch  6, CIFAR-10 Batch 3:  Loss: 0.2598 Validation Accuracy: 0.6718\n",
      "Epoch  6, CIFAR-10 Batch 4:  Loss: 0.2948 Validation Accuracy: 0.6808\n",
      "Epoch  6, CIFAR-10 Batch 5:  Loss: 0.2576 Validation Accuracy: 0.6654\n",
      "Epoch  7, CIFAR-10 Batch 1:  Loss: 0.3403 Validation Accuracy: 0.6616\n",
      "Epoch  7, CIFAR-10 Batch 2:  Loss: 0.2463 Validation Accuracy: 0.6890\n",
      "Epoch  7, CIFAR-10 Batch 3:  Loss: 0.1825 Validation Accuracy: 0.6792\n",
      "Epoch  7, CIFAR-10 Batch 4:  Loss: 0.2200 Validation Accuracy: 0.6826\n",
      "Epoch  7, CIFAR-10 Batch 5:  Loss: 0.1665 Validation Accuracy: 0.6690\n",
      "Epoch  8, CIFAR-10 Batch 1:  Loss: 0.1846 Validation Accuracy: 0.6686\n",
      "Epoch  8, CIFAR-10 Batch 2:  Loss: 0.1756 Validation Accuracy: 0.6886\n",
      "Epoch  8, CIFAR-10 Batch 3:  Loss: 0.1415 Validation Accuracy: 0.6732\n",
      "Epoch  8, CIFAR-10 Batch 4:  Loss: 0.1585 Validation Accuracy: 0.6676\n",
      "Epoch  8, CIFAR-10 Batch 5:  Loss: 0.1035 Validation Accuracy: 0.6680\n",
      "Epoch  9, CIFAR-10 Batch 1:  Loss: 0.1347 Validation Accuracy: 0.6808\n",
      "Epoch  9, CIFAR-10 Batch 2:  Loss: 0.1380 Validation Accuracy: 0.6918\n",
      "Epoch  9, CIFAR-10 Batch 3:  Loss: 0.0957 Validation Accuracy: 0.6744\n",
      "Epoch  9, CIFAR-10 Batch 4:  Loss: 0.0847 Validation Accuracy: 0.6768\n",
      "Epoch  9, CIFAR-10 Batch 5:  Loss: 0.0811 Validation Accuracy: 0.6770\n",
      "Epoch 10, CIFAR-10 Batch 1:  Loss: 0.1177 Validation Accuracy: 0.6834\n",
      "Epoch 10, CIFAR-10 Batch 2:  Loss: 0.0924 Validation Accuracy: 0.6842\n",
      "Epoch 10, CIFAR-10 Batch 3:  Loss: 0.0534 Validation Accuracy: 0.6692\n",
      "Epoch 10, CIFAR-10 Batch 4:  Loss: 0.0690 Validation Accuracy: 0.6696\n",
      "Epoch 10, CIFAR-10 Batch 5:  Loss: 0.0469 Validation Accuracy: 0.6872\n",
      "Epoch 11, CIFAR-10 Batch 1:  Loss: 0.0984 Validation Accuracy: 0.6728\n",
      "Epoch 11, CIFAR-10 Batch 2:  Loss: 0.0829 Validation Accuracy: 0.6848\n",
      "Epoch 11, CIFAR-10 Batch 3:  Loss: 0.0641 Validation Accuracy: 0.6682\n",
      "Epoch 11, CIFAR-10 Batch 4:  Loss: 0.0659 Validation Accuracy: 0.6886\n",
      "Epoch 11, CIFAR-10 Batch 5:  Loss: 0.0551 Validation Accuracy: 0.6746\n",
      "Epoch 12, CIFAR-10 Batch 1:  Loss: 0.0814 Validation Accuracy: 0.6776\n",
      "Epoch 12, CIFAR-10 Batch 2:  Loss: 0.0481 Validation Accuracy: 0.6860\n",
      "Epoch 12, CIFAR-10 Batch 3:  Loss: 0.0339 Validation Accuracy: 0.6604\n",
      "Epoch 12, CIFAR-10 Batch 4:  Loss: 0.0547 Validation Accuracy: 0.6926\n",
      "Epoch 12, CIFAR-10 Batch 5:  Loss: 0.0341 Validation Accuracy: 0.6784\n",
      "Epoch 13, CIFAR-10 Batch 1:  Loss: 0.0528 Validation Accuracy: 0.6888\n",
      "Epoch 13, CIFAR-10 Batch 2:  Loss: 0.0363 Validation Accuracy: 0.6862\n",
      "Epoch 13, CIFAR-10 Batch 3:  Loss: 0.0235 Validation Accuracy: 0.6782\n",
      "Epoch 13, CIFAR-10 Batch 4:  Loss: 0.0381 Validation Accuracy: 0.6850\n",
      "Epoch 13, CIFAR-10 Batch 5:  Loss: 0.0181 Validation Accuracy: 0.6848\n",
      "Epoch 14, CIFAR-10 Batch 1:  Loss: 0.0317 Validation Accuracy: 0.6856\n",
      "Epoch 14, CIFAR-10 Batch 2:  Loss: 0.0310 Validation Accuracy: 0.6918\n",
      "Epoch 14, CIFAR-10 Batch 3:  Loss: 0.0238 Validation Accuracy: 0.6754\n",
      "Epoch 14, CIFAR-10 Batch 4:  Loss: 0.0263 Validation Accuracy: 0.6966\n",
      "Epoch 14, CIFAR-10 Batch 5:  Loss: 0.0080 Validation Accuracy: 0.7060\n",
      "Epoch 15, CIFAR-10 Batch 1:  Loss: 0.0246 Validation Accuracy: 0.6804\n",
      "Epoch 15, CIFAR-10 Batch 2:  Loss: 0.0279 Validation Accuracy: 0.6880\n",
      "Epoch 15, CIFAR-10 Batch 3:  Loss: 0.0154 Validation Accuracy: 0.6758\n",
      "Epoch 15, CIFAR-10 Batch 4:  Loss: 0.0383 Validation Accuracy: 0.6890\n",
      "Epoch 15, CIFAR-10 Batch 5:  Loss: 0.0094 Validation Accuracy: 0.6984\n",
      "Epoch 16, CIFAR-10 Batch 1:  Loss: 0.0199 Validation Accuracy: 0.6790\n",
      "Epoch 16, CIFAR-10 Batch 2:  Loss: 0.0301 Validation Accuracy: 0.6670\n",
      "Epoch 16, CIFAR-10 Batch 3:  Loss: 0.0169 Validation Accuracy: 0.6854\n",
      "Epoch 16, CIFAR-10 Batch 4:  Loss: 0.0353 Validation Accuracy: 0.6610\n",
      "Epoch 16, CIFAR-10 Batch 5:  Loss: 0.0120 Validation Accuracy: 0.6972\n",
      "Epoch 17, CIFAR-10 Batch 1:  Loss: 0.0288 Validation Accuracy: 0.6672\n",
      "Epoch 17, CIFAR-10 Batch 2:  Loss: 0.0329 Validation Accuracy: 0.6666\n",
      "Epoch 17, CIFAR-10 Batch 3:  Loss: 0.0092 Validation Accuracy: 0.6784\n",
      "Epoch 17, CIFAR-10 Batch 4:  Loss: 0.0232 Validation Accuracy: 0.6674\n",
      "Epoch 17, CIFAR-10 Batch 5:  Loss: 0.0084 Validation Accuracy: 0.7008\n",
      "Epoch 18, CIFAR-10 Batch 1:  Loss: 0.0122 Validation Accuracy: 0.6838\n",
      "Epoch 18, CIFAR-10 Batch 2:  Loss: 0.0116 Validation Accuracy: 0.6782\n",
      "Epoch 18, CIFAR-10 Batch 3:  Loss: 0.0107 Validation Accuracy: 0.6870\n",
      "Epoch 18, CIFAR-10 Batch 4:  Loss: 0.0114 Validation Accuracy: 0.6776\n",
      "Epoch 18, CIFAR-10 Batch 5:  Loss: 0.0033 Validation Accuracy: 0.6884\n",
      "Epoch 19, CIFAR-10 Batch 1:  Loss: 0.0199 Validation Accuracy: 0.6906\n",
      "Epoch 19, CIFAR-10 Batch 2:  Loss: 0.0110 Validation Accuracy: 0.6722\n",
      "Epoch 19, CIFAR-10 Batch 3:  Loss: 0.0096 Validation Accuracy: 0.6704\n",
      "Epoch 19, CIFAR-10 Batch 4:  Loss: 0.0108 Validation Accuracy: 0.6556\n",
      "Epoch 19, CIFAR-10 Batch 5:  Loss: 0.0115 Validation Accuracy: 0.6810\n",
      "Epoch 20, CIFAR-10 Batch 1:  Loss: 0.0141 Validation Accuracy: 0.6742\n",
      "Epoch 20, CIFAR-10 Batch 2:  Loss: 0.0095 Validation Accuracy: 0.6514\n",
      "Epoch 20, CIFAR-10 Batch 3:  Loss: 0.0045 Validation Accuracy: 0.6540\n",
      "Epoch 20, CIFAR-10 Batch 4:  Loss: 0.0096 Validation Accuracy: 0.6634\n",
      "Epoch 20, CIFAR-10 Batch 5:  Loss: 0.0185 Validation Accuracy: 0.6790\n",
      "Epoch 21, CIFAR-10 Batch 1:  Loss: 0.0067 Validation Accuracy: 0.6788\n",
      "Epoch 21, CIFAR-10 Batch 2:  Loss: 0.0083 Validation Accuracy: 0.6690\n",
      "Epoch 21, CIFAR-10 Batch 3:  Loss: 0.0025 Validation Accuracy: 0.6828\n",
      "Epoch 21, CIFAR-10 Batch 4:  Loss: 0.0035 Validation Accuracy: 0.6710\n",
      "Epoch 21, CIFAR-10 Batch 5:  Loss: 0.0031 Validation Accuracy: 0.6768\n",
      "Epoch 22, CIFAR-10 Batch 1:  Loss: 0.0110 Validation Accuracy: 0.6724\n",
      "Epoch 22, CIFAR-10 Batch 2:  Loss: 0.0207 Validation Accuracy: 0.6704\n",
      "Epoch 22, CIFAR-10 Batch 3:  Loss: 0.0012 Validation Accuracy: 0.6712\n",
      "Epoch 22, CIFAR-10 Batch 4:  Loss: 0.0048 Validation Accuracy: 0.6734\n",
      "Epoch 22, CIFAR-10 Batch 5:  Loss: 0.0037 Validation Accuracy: 0.6728\n",
      "Epoch 23, CIFAR-10 Batch 1:  Loss: 0.0037 Validation Accuracy: 0.6846\n",
      "Epoch 23, CIFAR-10 Batch 2:  Loss: 0.0062 Validation Accuracy: 0.6802\n",
      "Epoch 23, CIFAR-10 Batch 3:  Loss: 0.0054 Validation Accuracy: 0.6754\n",
      "Epoch 23, CIFAR-10 Batch 4:  Loss: 0.0035 Validation Accuracy: 0.6736\n",
      "Epoch 23, CIFAR-10 Batch 5:  Loss: 0.0025 Validation Accuracy: 0.6754\n",
      "Epoch 24, CIFAR-10 Batch 1:  Loss: 0.0037 Validation Accuracy: 0.6910\n",
      "Epoch 24, CIFAR-10 Batch 2:  Loss: 0.0123 Validation Accuracy: 0.6790\n"
     ]
    },
    {
     "name": "stdout",
     "output_type": "stream",
     "text": [
      "Epoch 24, CIFAR-10 Batch 3:  Loss: 0.0018 Validation Accuracy: 0.6722\n",
      "Epoch 24, CIFAR-10 Batch 4:  Loss: 0.0050 Validation Accuracy: 0.6718\n",
      "Epoch 24, CIFAR-10 Batch 5:  Loss: 0.0012 Validation Accuracy: 0.6836\n",
      "Epoch 25, CIFAR-10 Batch 1:  Loss: 0.0029 Validation Accuracy: 0.6768\n",
      "Epoch 25, CIFAR-10 Batch 2:  Loss: 0.0033 Validation Accuracy: 0.6718\n",
      "Epoch 25, CIFAR-10 Batch 3:  Loss: 0.0026 Validation Accuracy: 0.6726\n",
      "Epoch 25, CIFAR-10 Batch 4:  Loss: 0.0025 Validation Accuracy: 0.6734\n",
      "Epoch 25, CIFAR-10 Batch 5:  Loss: 0.0018 Validation Accuracy: 0.6888\n",
      "Epoch 26, CIFAR-10 Batch 1:  Loss: 0.0027 Validation Accuracy: 0.6764\n",
      "Epoch 26, CIFAR-10 Batch 2:  Loss: 0.0022 Validation Accuracy: 0.6780\n",
      "Epoch 26, CIFAR-10 Batch 3:  Loss: 0.0013 Validation Accuracy: 0.6826\n",
      "Epoch 26, CIFAR-10 Batch 4:  Loss: 0.0023 Validation Accuracy: 0.6752\n",
      "Epoch 26, CIFAR-10 Batch 5:  Loss: 0.0026 Validation Accuracy: 0.6810\n",
      "Epoch 27, CIFAR-10 Batch 1:  Loss: 0.0012 Validation Accuracy: 0.6858\n",
      "Epoch 27, CIFAR-10 Batch 2:  Loss: 0.0017 Validation Accuracy: 0.6916\n",
      "Epoch 27, CIFAR-10 Batch 3:  Loss: 0.0027 Validation Accuracy: 0.6766\n",
      "Epoch 27, CIFAR-10 Batch 4:  Loss: 0.0012 Validation Accuracy: 0.6726\n",
      "Epoch 27, CIFAR-10 Batch 5:  Loss: 0.0024 Validation Accuracy: 0.6802\n",
      "Epoch 28, CIFAR-10 Batch 1:  Loss: 0.0042 Validation Accuracy: 0.6794\n",
      "Epoch 28, CIFAR-10 Batch 2:  Loss: 0.0025 Validation Accuracy: 0.6746\n",
      "Epoch 28, CIFAR-10 Batch 3:  Loss: 0.0013 Validation Accuracy: 0.6882\n",
      "Epoch 28, CIFAR-10 Batch 4:  Loss: 0.0017 Validation Accuracy: 0.6846\n",
      "Epoch 28, CIFAR-10 Batch 5:  Loss: 0.0011 Validation Accuracy: 0.6820\n",
      "Epoch 29, CIFAR-10 Batch 1:  Loss: 0.0006 Validation Accuracy: 0.6966\n",
      "Epoch 29, CIFAR-10 Batch 2:  Loss: 0.0008 Validation Accuracy: 0.6704\n",
      "Epoch 29, CIFAR-10 Batch 3:  Loss: 0.0006 Validation Accuracy: 0.6958\n",
      "Epoch 29, CIFAR-10 Batch 4:  Loss: 0.0003 Validation Accuracy: 0.6814\n",
      "Epoch 29, CIFAR-10 Batch 5:  Loss: 0.0010 Validation Accuracy: 0.6762\n",
      "Epoch 30, CIFAR-10 Batch 1:  Loss: 0.0010 Validation Accuracy: 0.6788\n",
      "Epoch 30, CIFAR-10 Batch 2:  Loss: 0.0005 Validation Accuracy: 0.6572\n",
      "Epoch 30, CIFAR-10 Batch 3:  Loss: 0.0009 Validation Accuracy: 0.6918\n",
      "Epoch 30, CIFAR-10 Batch 4:  Loss: 0.0013 Validation Accuracy: 0.6740\n",
      "Epoch 30, CIFAR-10 Batch 5:  Loss: 0.0014 Validation Accuracy: 0.6786\n",
      "Epoch 31, CIFAR-10 Batch 1:  Loss: 0.0006 Validation Accuracy: 0.6860\n",
      "Epoch 31, CIFAR-10 Batch 2:  Loss: 0.0010 Validation Accuracy: 0.6728\n",
      "Epoch 31, CIFAR-10 Batch 3:  Loss: 0.0013 Validation Accuracy: 0.6782\n",
      "Epoch 31, CIFAR-10 Batch 4:  Loss: 0.0005 Validation Accuracy: 0.6860\n",
      "Epoch 31, CIFAR-10 Batch 5:  Loss: 0.0002 Validation Accuracy: 0.6870\n",
      "Epoch 32, CIFAR-10 Batch 1:  Loss: 0.0007 Validation Accuracy: 0.6860\n",
      "Epoch 32, CIFAR-10 Batch 2:  Loss: 0.0011 Validation Accuracy: 0.6608\n",
      "Epoch 32, CIFAR-10 Batch 3:  Loss: 0.0018 Validation Accuracy: 0.6918\n",
      "Epoch 32, CIFAR-10 Batch 4:  Loss: 0.0009 Validation Accuracy: 0.6854\n",
      "Epoch 32, CIFAR-10 Batch 5:  Loss: 0.0003 Validation Accuracy: 0.6900\n",
      "Epoch 33, CIFAR-10 Batch 1:  Loss: 0.0003 Validation Accuracy: 0.6942\n",
      "Epoch 33, CIFAR-10 Batch 2:  Loss: 0.0001 Validation Accuracy: 0.6764\n",
      "Epoch 33, CIFAR-10 Batch 3:  Loss: 0.0011 Validation Accuracy: 0.6866\n",
      "Epoch 33, CIFAR-10 Batch 4:  Loss: 0.0019 Validation Accuracy: 0.6854\n",
      "Epoch 33, CIFAR-10 Batch 5:  Loss: 0.0013 Validation Accuracy: 0.6876\n",
      "Epoch 34, CIFAR-10 Batch 1:  Loss: 0.0042 Validation Accuracy: 0.6738\n",
      "Epoch 34, CIFAR-10 Batch 2:  Loss: 0.0004 Validation Accuracy: 0.6866\n",
      "Epoch 34, CIFAR-10 Batch 3:  Loss: 0.0001 Validation Accuracy: 0.6866\n",
      "Epoch 34, CIFAR-10 Batch 4:  Loss: 0.0005 Validation Accuracy: 0.6816\n",
      "Epoch 34, CIFAR-10 Batch 5:  Loss: 0.0021 Validation Accuracy: 0.6702\n",
      "Epoch 35, CIFAR-10 Batch 1:  Loss: 0.0031 Validation Accuracy: 0.6554\n",
      "Epoch 35, CIFAR-10 Batch 2:  Loss: 0.0003 Validation Accuracy: 0.6802\n",
      "Epoch 35, CIFAR-10 Batch 3:  Loss: 0.0007 Validation Accuracy: 0.6902\n",
      "Epoch 35, CIFAR-10 Batch 4:  Loss: 0.0005 Validation Accuracy: 0.6826\n",
      "Epoch 35, CIFAR-10 Batch 5:  Loss: 0.0010 Validation Accuracy: 0.6904\n",
      "Epoch 36, CIFAR-10 Batch 1:  Loss: 0.0002 Validation Accuracy: 0.6930\n",
      "Epoch 36, CIFAR-10 Batch 2:  Loss: 0.0002 Validation Accuracy: 0.6870\n",
      "Epoch 36, CIFAR-10 Batch 3:  Loss: 0.0004 Validation Accuracy: 0.6916\n",
      "Epoch 36, CIFAR-10 Batch 4:  Loss: 0.0006 Validation Accuracy: 0.6892\n",
      "Epoch 36, CIFAR-10 Batch 5:  Loss: 0.0001 Validation Accuracy: 0.6802\n",
      "Epoch 37, CIFAR-10 Batch 1:  Loss: 0.0001 Validation Accuracy: 0.6848\n",
      "Epoch 37, CIFAR-10 Batch 2:  Loss: 0.0005 Validation Accuracy: 0.6890\n",
      "Epoch 37, CIFAR-10 Batch 3:  Loss: 0.0000 Validation Accuracy: 0.6944\n",
      "Epoch 37, CIFAR-10 Batch 4:  Loss: 0.0001 Validation Accuracy: 0.6828\n",
      "Epoch 37, CIFAR-10 Batch 5:  Loss: 0.0003 Validation Accuracy: 0.6914\n",
      "Epoch 38, CIFAR-10 Batch 1:  Loss: 0.0002 Validation Accuracy: 0.6910\n",
      "Epoch 38, CIFAR-10 Batch 2:  Loss: 0.0008 Validation Accuracy: 0.7022\n",
      "Epoch 38, CIFAR-10 Batch 3:  Loss: 0.0002 Validation Accuracy: 0.6906\n",
      "Epoch 38, CIFAR-10 Batch 4:  Loss: 0.0010 Validation Accuracy: 0.6960\n",
      "Epoch 38, CIFAR-10 Batch 5:  Loss: 0.0010 Validation Accuracy: 0.6946\n",
      "Epoch 39, CIFAR-10 Batch 1:  Loss: 0.0019 Validation Accuracy: 0.6866\n",
      "Epoch 39, CIFAR-10 Batch 2:  Loss: 0.0017 Validation Accuracy: 0.6898\n",
      "Epoch 39, CIFAR-10 Batch 3:  Loss: 0.0010 Validation Accuracy: 0.6922\n",
      "Epoch 39, CIFAR-10 Batch 4:  Loss: 0.0001 Validation Accuracy: 0.6902\n",
      "Epoch 39, CIFAR-10 Batch 5:  Loss: 0.0006 Validation Accuracy: 0.6832\n",
      "Epoch 40, CIFAR-10 Batch 1:  Loss: 0.0008 Validation Accuracy: 0.6880\n",
      "Epoch 40, CIFAR-10 Batch 2:  Loss: 0.0019 Validation Accuracy: 0.6828\n",
      "Epoch 40, CIFAR-10 Batch 3:  Loss: 0.0009 Validation Accuracy: 0.6874\n",
      "Epoch 40, CIFAR-10 Batch 4:  Loss: 0.0003 Validation Accuracy: 0.6896\n",
      "Epoch 40, CIFAR-10 Batch 5:  Loss: 0.0003 Validation Accuracy: 0.6906\n",
      "Epoch 41, CIFAR-10 Batch 1:  Loss: 0.0011 Validation Accuracy: 0.6896\n",
      "Epoch 41, CIFAR-10 Batch 2:  Loss: 0.0004 Validation Accuracy: 0.6912\n",
      "Epoch 41, CIFAR-10 Batch 3:  Loss: 0.0000 Validation Accuracy: 0.6922\n",
      "Epoch 41, CIFAR-10 Batch 4:  Loss: 0.0001 Validation Accuracy: 0.6982\n",
      "Epoch 41, CIFAR-10 Batch 5:  Loss: 0.0036 Validation Accuracy: 0.6834\n",
      "Epoch 42, CIFAR-10 Batch 1:  Loss: 0.0002 Validation Accuracy: 0.6948\n",
      "Epoch 42, CIFAR-10 Batch 2:  Loss: 0.0003 Validation Accuracy: 0.6988\n",
      "Epoch 42, CIFAR-10 Batch 3:  Loss: 0.0000 Validation Accuracy: 0.6902\n",
      "Epoch 42, CIFAR-10 Batch 4:  Loss: 0.0014 Validation Accuracy: 0.6884\n",
      "Epoch 42, CIFAR-10 Batch 5:  Loss: 0.0000 Validation Accuracy: 0.6810\n",
      "Epoch 43, CIFAR-10 Batch 1:  Loss: 0.0018 Validation Accuracy: 0.6786\n",
      "Epoch 43, CIFAR-10 Batch 2:  Loss: 0.0007 Validation Accuracy: 0.6790\n",
      "Epoch 43, CIFAR-10 Batch 3:  Loss: 0.0039 Validation Accuracy: 0.6800\n",
      "Epoch 43, CIFAR-10 Batch 4:  Loss: 0.0013 Validation Accuracy: 0.6952\n",
      "Epoch 43, CIFAR-10 Batch 5:  Loss: 0.0005 Validation Accuracy: 0.6800\n",
      "Epoch 44, CIFAR-10 Batch 1:  Loss: 0.0041 Validation Accuracy: 0.6904\n",
      "Epoch 44, CIFAR-10 Batch 2:  Loss: 0.0001 Validation Accuracy: 0.6810\n",
      "Epoch 44, CIFAR-10 Batch 3:  Loss: 0.0001 Validation Accuracy: 0.6882\n",
      "Epoch 44, CIFAR-10 Batch 4:  Loss: 0.0009 Validation Accuracy: 0.6850\n",
      "Epoch 44, CIFAR-10 Batch 5:  Loss: 0.0010 Validation Accuracy: 0.6800\n",
      "Epoch 45, CIFAR-10 Batch 1:  Loss: 0.0006 Validation Accuracy: 0.6896\n",
      "Epoch 45, CIFAR-10 Batch 2:  Loss: 0.0001 Validation Accuracy: 0.6914\n",
      "Epoch 45, CIFAR-10 Batch 3:  Loss: 0.0005 Validation Accuracy: 0.6842\n",
      "Epoch 45, CIFAR-10 Batch 4:  Loss: 0.0001 Validation Accuracy: 0.6908\n",
      "Epoch 45, CIFAR-10 Batch 5:  Loss: 0.0002 Validation Accuracy: 0.6808\n"
     ]
    }
   ],
   "source": [
    "\"\"\"\n",
    "DON'T MODIFY ANYTHING IN THIS CELL\n",
    "\"\"\"\n",
    "save_model_path = './image_classification'\n",
    "\n",
    "print('Training...')\n",
    "with tf.Session() as sess:\n",
    "    # Initializing the variables\n",
    "    sess.run(tf.global_variables_initializer())\n",
    "    \n",
    "    # Training cycle\n",
    "    for epoch in range(epochs):\n",
    "        # Loop over all batches\n",
    "        n_batches = 5\n",
    "        for batch_i in range(1, n_batches + 1):\n",
    "            for batch_features, batch_labels in helper.load_preprocess_training_batch(batch_i, batch_size):\n",
    "                train_neural_network(sess, optimizer, keep_probability, batch_features, batch_labels)\n",
    "            print('Epoch {:>2}, CIFAR-10 Batch {}:  '.format(epoch + 1, batch_i), end='')\n",
    "            print_stats(sess, batch_features, batch_labels, cost, accuracy)\n",
    "            \n",
    "    # Save Model\n",
    "    saver = tf.train.Saver()\n",
    "    save_path = saver.save(sess, save_model_path)"
   ]
  },
  {
   "cell_type": "markdown",
   "metadata": {},
   "source": [
    "# Checkpoint\n",
    "The model has been saved to disk.\n",
    "## Test Model\n",
    "Test your model against the test dataset.  This will be your final accuracy. You should have an accuracy greater than 50%. If you don't, keep tweaking the model architecture and parameters."
   ]
  },
  {
   "cell_type": "code",
   "execution_count": 119,
   "metadata": {},
   "outputs": [
    {
     "name": "stdout",
     "output_type": "stream",
     "text": [
      "INFO:tensorflow:Restoring parameters from ./image_classification\n",
      "Testing Accuracy: 0.68359375\n",
      "\n"
     ]
    },
    {
     "data": {
      "image/png": "[encoded data removed]",
      "text/plain": [
       "<matplotlib.figure.Figure at 0x7fba11347ef0>"
      ]
     },
     "metadata": {
      "image/png": {
       "height": 319,
       "width": 355
      }
     },
     "output_type": "display_data"
    }
   ],
   "source": [
    "\"\"\"\n",
    "DON'T MODIFY ANYTHING IN THIS CELL\n",
    "\"\"\"\n",
    "%matplotlib inline\n",
    "%config InlineBackend.figure_format = 'retina'\n",
    "\n",
    "import tensorflow as tf\n",
    "import pickle\n",
    "import helper\n",
    "import random\n",
    "\n",
    "# Set batch size if not already set\n",
    "try:\n",
    "    if batch_size:\n",
    "        pass\n",
    "except NameError:\n",
    "    batch_size = 64\n",
    "\n",
    "save_model_path = './image_classification'\n",
    "n_samples = 4\n",
    "top_n_predictions = 3\n",
    "\n",
    "def test_model():\n",
    "    \"\"\"\n",
    "    Test the saved model against the test dataset\n",
    "    \"\"\"\n",
    "\n",
    "    test_features, test_labels = pickle.load(open('preprocess_test.p', mode='rb'))\n",
    "    loaded_graph = tf.Graph()\n",
    "\n",
    "    with tf.Session(graph=loaded_graph) as sess:\n",
    "        # Load model\n",
    "        loader = tf.train.import_meta_graph(save_model_path + '.meta')\n",
    "        loader.restore(sess, save_model_path)\n",
    "\n",
    "        # Get Tensors from loaded model\n",
    "        loaded_x = loaded_graph.get_tensor_by_name('x:0')\n",
    "        loaded_y = loaded_graph.get_tensor_by_name('y:0')\n",
    "        loaded_keep_prob = loaded_graph.get_tensor_by_name('keep_prob:0')\n",
    "        loaded_logits = loaded_graph.get_tensor_by_name('logits:0')\n",
    "        loaded_acc = loaded_graph.get_tensor_by_name('accuracy:0')\n",
    "        \n",
    "        # Get accuracy in batches for memory limitations\n",
    "        test_batch_acc_total = 0\n",
    "        test_batch_count = 0\n",
    "        \n",
    "        for test_feature_batch, test_label_batch in helper.batch_features_labels(test_features, test_labels, batch_size):\n",
    "            test_batch_acc_total += sess.run(\n",
    "                loaded_acc,\n",
    "                feed_dict={loaded_x: test_feature_batch, loaded_y: test_label_batch, loaded_keep_prob: 1.0})\n",
    "            test_batch_count += 1\n",
    "\n",
    "        print('Testing Accuracy: {}\\n'.format(test_batch_acc_total/test_batch_count))\n",
    "\n",
    "        # Print Random Samples\n",
    "        random_test_features, random_test_labels = tuple(zip(*random.sample(list(zip(test_features, test_labels)), n_samples)))\n",
    "        random_test_predictions = sess.run(\n",
    "            tf.nn.top_k(tf.nn.softmax(loaded_logits), top_n_predictions),\n",
    "            feed_dict={loaded_x: random_test_features, loaded_y: random_test_labels, loaded_keep_prob: 1.0})\n",
    "        helper.display_image_predictions(random_test_features, random_test_labels, random_test_predictions)\n",
    "\n",
    "\n",
    "test_model()"
   ]
  },
  {
   "cell_type": "markdown",
   "metadata": {},
   "source": [
    "## Why 50-80% Accuracy?\n",
    "You might be wondering why you can't get an accuracy any higher. First things first, 50% isn't bad for a simple CNN.  Pure guessing would get you 10% accuracy. However, you might notice people are getting scores [well above 80%](http://rodrigob.github.io/are_we_there_yet/build/classification_datasets_results.html#43494641522d3130).  That's because we haven't taught you all there is to know about neural networks. We still need to cover a few more techniques.\n",
    "## Submitting This Project\n",
    "When submitting this project, make sure to run all the cells before saving the notebook.  Save the notebook file as \"dlnd_image_classification.ipynb\" and save it as a HTML file under \"File\" -> \"Download as\".  Include the \"helper.py\" and \"problem_unittests.py\" files in your submission."
   ]
  }
 ],
 "metadata": {
  "kernelspec": {
   "display_name": "Python 3",
   "language": "python",
   "name": "python3"
  },
  "language_info": {
   "codemirror_mode": {
    "name": "ipython",
    "version": 3
   },
   "file_extension": ".py",
   "mimetype": "text/x-python",
   "name": "python",
   "nbconvert_exporter": "python",
   "pygments_lexer": "ipython3",
   "version": "3.5.3"
  }
 },
 "nbformat": 4,
 "nbformat_minor": 1
}
